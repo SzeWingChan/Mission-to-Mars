{
 "cells": [
  {
   "cell_type": "code",
   "execution_count": 1,
   "id": "558a0b99",
   "metadata": {},
   "outputs": [],
   "source": [
    "#10.3.3"
   ]
  },
  {
   "cell_type": "code",
   "execution_count": 2,
   "id": "bcedbf13",
   "metadata": {},
   "outputs": [],
   "source": [
    "#Import Splinter and BeautifulSoup\n",
    "from splinter import Browser\n",
    "from bs4 import BeautifulSoup as soup\n",
    "from webdriver_manager.chrome import ChromeDriverManager\n",
    "import pandas as pd #10.3.5"
   ]
  },
  {
   "cell_type": "code",
   "execution_count": 3,
   "id": "32e949b9",
   "metadata": {},
   "outputs": [
    {
     "name": "stderr",
     "output_type": "stream",
     "text": [
      "\n",
      "\n",
      "====== WebDriver manager ======\n",
      "Current google-chrome version is 100.0.4896\n",
      "Get LATEST chromedriver version for 100.0.4896 google-chrome\n",
      "Driver [C:\\Users\\szewi\\.wdm\\drivers\\chromedriver\\win32\\100.0.4896.60\\chromedriver.exe] found in cache\n"
     ]
    }
   ],
   "source": [
    "#Set executable path\n",
    "executable_path = {'executable_path': ChromeDriverManager().install()}\n",
    "browser = Browser('chrome', **executable_path, headless=False)"
   ]
  },
  {
   "cell_type": "code",
   "execution_count": 4,
   "id": "1ad8abdb",
   "metadata": {},
   "outputs": [
    {
     "data": {
      "text/plain": [
       "True"
      ]
     },
     "execution_count": 4,
     "metadata": {},
     "output_type": "execute_result"
    }
   ],
   "source": [
    "#Visit the mars nasa news site\n",
    "url = 'https://redplanetscience.com'\n",
    "browser.visit(url)\n",
    "\n",
    "#Optional delay for loading the page\n",
    "browser.is_element_present_by_css('div.list_text', wait_time=1)\n",
    "\n",
    "#Searching for elements with a specific combination of tag (div) and attribute (list_text)\n",
    "#Telling the browser to wait one second before searching for components"
   ]
  },
  {
   "cell_type": "code",
   "execution_count": 5,
   "id": "530fbf40",
   "metadata": {},
   "outputs": [],
   "source": [
    "#Parse the HTML\n",
    "html = browser.html\n",
    "news_soup = soup(html, 'html.parser')\n",
    "slide_elem = news_soup.select_one('div.list_text')"
   ]
  },
  {
   "cell_type": "code",
   "execution_count": 6,
   "id": "3b7b599f",
   "metadata": {},
   "outputs": [
    {
     "data": {
      "text/plain": [
       "<div class=\"content_title\">NASA, ULA Launch Mars 2020 Perseverance Rover Mission to Red Planet</div>"
      ]
     },
     "execution_count": 6,
     "metadata": {},
     "output_type": "execute_result"
    }
   ],
   "source": [
    "#The specific data is in a <div /> with a class of 'content_title'\n",
    "slide_elem.find('div', class_='content_title')"
   ]
  },
  {
   "cell_type": "code",
   "execution_count": 7,
   "id": "142bf565",
   "metadata": {},
   "outputs": [
    {
     "data": {
      "text/plain": [
       "'NASA, ULA Launch Mars 2020 Perseverance Rover Mission to Red Planet'"
      ]
     },
     "execution_count": 7,
     "metadata": {},
     "output_type": "execute_result"
    }
   ],
   "source": [
    "#Use the parent element to find the first `a` tag and save it as `news_title`\n",
    "news_title = slide_elem.find('div', class_='content_title').get_text()\n",
    "news_title"
   ]
  },
  {
   "cell_type": "code",
   "execution_count": 8,
   "id": "9bb71736",
   "metadata": {},
   "outputs": [
    {
     "data": {
      "text/plain": [
       "<div class=\"article_teaser_body\">The agency's Mars 2020 mission is on its way. It will land at Jezero Crater in about seven months, on Feb. 18, 2021. </div>"
      ]
     },
     "execution_count": 8,
     "metadata": {},
     "output_type": "execute_result"
    }
   ],
   "source": [
    "#Scrape the article summary instead of the title\n",
    "slide_elem.find('div', class_='article_teaser_body')"
   ]
  },
  {
   "cell_type": "code",
   "execution_count": 9,
   "id": "51ac2124",
   "metadata": {},
   "outputs": [],
   "source": [
    "#There are two methods used to find tags and attributes with BeautifulSoup:\n",
    "\n",
    "#.find() is used when we want only the first class and attribute we've specified.\n",
    "#.find_all() is used when we want to retrieve all of the tags and attributes."
   ]
  },
  {
   "cell_type": "code",
   "execution_count": 10,
   "id": "d8b88fd4",
   "metadata": {},
   "outputs": [
    {
     "data": {
      "text/plain": [
       "\"The agency's Mars 2020 mission is on its way. It will land at Jezero Crater in about seven months, on Feb. 18, 2021. \""
      ]
     },
     "execution_count": 10,
     "metadata": {},
     "output_type": "execute_result"
    }
   ],
   "source": [
    "#Use the parent element to find the paragraph text\n",
    "news_p = slide_elem.find('div', class_='article_teaser_body').get_text()\n",
    "news_p"
   ]
  },
  {
   "cell_type": "code",
   "execution_count": 11,
   "id": "1d4cd978",
   "metadata": {},
   "outputs": [],
   "source": [
    "#10.3.4"
   ]
  },
  {
   "cell_type": "markdown",
   "id": "07c3ee87",
   "metadata": {},
   "source": [
    "### Featured Images"
   ]
  },
  {
   "cell_type": "code",
   "execution_count": 12,
   "id": "6e606c9c",
   "metadata": {},
   "outputs": [],
   "source": [
    "#Visit URL\n",
    "url = 'https://spaceimages-mars.com'\n",
    "browser.visit(url)"
   ]
  },
  {
   "cell_type": "code",
   "execution_count": 13,
   "id": "ff7645b6",
   "metadata": {},
   "outputs": [],
   "source": [
    "#Find and click the full image button\n",
    "full_image_elem = browser.find_by_tag('button')[1]\n",
    "full_image_elem.click()\n",
    "\n",
    "#The indexing chained at the end of the first line of code: Ensure the browser to click the second button"
   ]
  },
  {
   "cell_type": "code",
   "execution_count": 14,
   "id": "61fb0059",
   "metadata": {},
   "outputs": [],
   "source": [
    "#Parse the resulting html with soup\n",
    "html = browser.html\n",
    "img_soup = soup(html, 'html.parser')"
   ]
  },
  {
   "cell_type": "code",
   "execution_count": 15,
   "id": "ce4ab0b7",
   "metadata": {},
   "outputs": [
    {
     "data": {
      "text/plain": [
       "'image/featured/mars1.jpg'"
      ]
     },
     "execution_count": 15,
     "metadata": {},
     "output_type": "execute_result"
    }
   ],
   "source": [
    "#Find the relative image url\n",
    "img_url_rel = img_soup.find('img', class_='fancybox-image').get('src')\n",
    "img_url_rel\n",
    "\n",
    "#An img tag is nested within this HTML\n",
    "#.get('src') pulls the link to the image"
   ]
  },
  {
   "cell_type": "code",
   "execution_count": 16,
   "id": "22cbac70",
   "metadata": {},
   "outputs": [
    {
     "data": {
      "text/plain": [
       "'https://spaceimages-mars.com/image/featured/mars1.jpg'"
      ]
     },
     "execution_count": 16,
     "metadata": {},
     "output_type": "execute_result"
    }
   ],
   "source": [
    "#Use the base URL to create an absolute URL\n",
    "img_url = f'https://spaceimages-mars.com/{img_url_rel}'\n",
    "img_url"
   ]
  },
  {
   "cell_type": "code",
   "execution_count": 17,
   "id": "13c38304",
   "metadata": {},
   "outputs": [],
   "source": [
    "#10.3.5"
   ]
  },
  {
   "cell_type": "code",
   "execution_count": 18,
   "id": "b3dd4dcc",
   "metadata": {},
   "outputs": [
    {
     "data": {
      "text/html": [
       "<div>\n",
       "<style scoped>\n",
       "    .dataframe tbody tr th:only-of-type {\n",
       "        vertical-align: middle;\n",
       "    }\n",
       "\n",
       "    .dataframe tbody tr th {\n",
       "        vertical-align: top;\n",
       "    }\n",
       "\n",
       "    .dataframe thead th {\n",
       "        text-align: right;\n",
       "    }\n",
       "</style>\n",
       "<table border=\"1\" class=\"dataframe\">\n",
       "  <thead>\n",
       "    <tr style=\"text-align: right;\">\n",
       "      <th></th>\n",
       "      <th>Mars</th>\n",
       "      <th>Earth</th>\n",
       "    </tr>\n",
       "    <tr>\n",
       "      <th>description</th>\n",
       "      <th></th>\n",
       "      <th></th>\n",
       "    </tr>\n",
       "  </thead>\n",
       "  <tbody>\n",
       "    <tr>\n",
       "      <th>Mars - Earth Comparison</th>\n",
       "      <td>Mars</td>\n",
       "      <td>Earth</td>\n",
       "    </tr>\n",
       "    <tr>\n",
       "      <th>Diameter:</th>\n",
       "      <td>6,779 km</td>\n",
       "      <td>12,742 km</td>\n",
       "    </tr>\n",
       "    <tr>\n",
       "      <th>Mass:</th>\n",
       "      <td>6.39 × 10^23 kg</td>\n",
       "      <td>5.97 × 10^24 kg</td>\n",
       "    </tr>\n",
       "    <tr>\n",
       "      <th>Moons:</th>\n",
       "      <td>2</td>\n",
       "      <td>1</td>\n",
       "    </tr>\n",
       "    <tr>\n",
       "      <th>Distance from Sun:</th>\n",
       "      <td>227,943,824 km</td>\n",
       "      <td>149,598,262 km</td>\n",
       "    </tr>\n",
       "    <tr>\n",
       "      <th>Length of Year:</th>\n",
       "      <td>687 Earth days</td>\n",
       "      <td>365.24 days</td>\n",
       "    </tr>\n",
       "    <tr>\n",
       "      <th>Temperature:</th>\n",
       "      <td>-87 to -5 °C</td>\n",
       "      <td>-88 to 58°C</td>\n",
       "    </tr>\n",
       "  </tbody>\n",
       "</table>\n",
       "</div>"
      ],
      "text/plain": [
       "                                    Mars            Earth\n",
       "description                                              \n",
       "Mars - Earth Comparison             Mars            Earth\n",
       "Diameter:                       6,779 km        12,742 km\n",
       "Mass:                    6.39 × 10^23 kg  5.97 × 10^24 kg\n",
       "Moons:                                 2                1\n",
       "Distance from Sun:        227,943,824 km   149,598,262 km\n",
       "Length of Year:           687 Earth days      365.24 days\n",
       "Temperature:                -87 to -5 °C      -88 to 58°C"
      ]
     },
     "execution_count": 18,
     "metadata": {},
     "output_type": "execute_result"
    }
   ],
   "source": [
    "#Use Pandas' .read_html() function to scrape the entire table\n",
    "df = pd.read_html('https://galaxyfacts-mars.com')[0]\n",
    "df.columns=['description', 'Mars', 'Earth']\n",
    "df.set_index('description', inplace=True)\n",
    "df\n",
    "\n",
    "#By specifying an index of 0, we're telling Pandas to pull only the first table it encounters\n",
    "#df.columns=['description', 'Mars', 'Earth']: Assign columns to the new DataFrame for additional clarity\n",
    "#df.set_index('description', inplace=True): By using the .set_index() function, the Description column will become index\n",
    "#inplace=True means that the updated index will remain in place, without having to reassign the DataFrame to a new variable"
   ]
  },
  {
   "cell_type": "code",
   "execution_count": 19,
   "id": "165fbcbe",
   "metadata": {},
   "outputs": [
    {
     "data": {
      "text/plain": [
       "'<table border=\"1\" class=\"dataframe\">\\n  <thead>\\n    <tr style=\"text-align: right;\">\\n      <th></th>\\n      <th>Mars</th>\\n      <th>Earth</th>\\n    </tr>\\n    <tr>\\n      <th>description</th>\\n      <th></th>\\n      <th></th>\\n    </tr>\\n  </thead>\\n  <tbody>\\n    <tr>\\n      <th>Mars - Earth Comparison</th>\\n      <td>Mars</td>\\n      <td>Earth</td>\\n    </tr>\\n    <tr>\\n      <th>Diameter:</th>\\n      <td>6,779 km</td>\\n      <td>12,742 km</td>\\n    </tr>\\n    <tr>\\n      <th>Mass:</th>\\n      <td>6.39 × 10^23 kg</td>\\n      <td>5.97 × 10^24 kg</td>\\n    </tr>\\n    <tr>\\n      <th>Moons:</th>\\n      <td>2</td>\\n      <td>1</td>\\n    </tr>\\n    <tr>\\n      <th>Distance from Sun:</th>\\n      <td>227,943,824 km</td>\\n      <td>149,598,262 km</td>\\n    </tr>\\n    <tr>\\n      <th>Length of Year:</th>\\n      <td>687 Earth days</td>\\n      <td>365.24 days</td>\\n    </tr>\\n    <tr>\\n      <th>Temperature:</th>\\n      <td>-87 to -5 °C</td>\\n      <td>-88 to 58°C</td>\\n    </tr>\\n  </tbody>\\n</table>'"
      ]
     },
     "execution_count": 19,
     "metadata": {},
     "output_type": "execute_result"
    }
   ],
   "source": [
    "#Convert a DataFrame into HTML-ready code\n",
    "df.to_html()"
   ]
  },
  {
   "cell_type": "code",
   "execution_count": 20,
   "id": "9ecd300b",
   "metadata": {},
   "outputs": [],
   "source": [
    "#End the automated browsing session\n",
    "browser.quit()"
   ]
  },
  {
   "cell_type": "code",
   "execution_count": null,
   "id": "a857a0a5",
   "metadata": {},
   "outputs": [],
   "source": [
    "#10.3.6"
   ]
  },
  {
   "cell_type": "code",
   "execution_count": null,
   "id": "02146229",
   "metadata": {},
   "outputs": [],
   "source": [
    "#We can't automate the scraping using the Jupyter Notebook. \n",
    "#To fully automate it, it will need to be converted into a .py file"
   ]
  },
  {
   "cell_type": "code",
   "execution_count": null,
   "id": "56d6f308",
   "metadata": {},
   "outputs": [],
   "source": [
    "#File -> Download as \"Python (.py)\""
   ]
  },
  {
   "cell_type": "code",
   "execution_count": null,
   "id": "55f620bd",
   "metadata": {},
   "outputs": [],
   "source": [
    "#Clean up the code by removing unnecessary blank spaces and comments"
   ]
  },
  {
   "cell_type": "code",
   "execution_count": null,
   "id": "5bbe84da",
   "metadata": {},
   "outputs": [],
   "source": [
    "#10.4.1"
   ]
  },
  {
   "cell_type": "code",
   "execution_count": null,
   "id": "dbb75d77",
   "metadata": {},
   "outputs": [],
   "source": [
    "#SQL isn't a good database option because it works with tabular data.\n",
    "#MongoDB (Mongo for short) is a non-relational database that stores data in Binary JavaScript Object Notation (JSON), or BSON format. \n",
    "#JSON, JavaScript Object Notation, is a method that sorts and presents data in the form of key:value pairs. \n",
    "#It looks much like a Python dictionary and can be traversed through using list notation."
   ]
  },
  {
   "cell_type": "code",
   "execution_count": null,
   "id": "ca7e9f5f",
   "metadata": {},
   "outputs": [],
   "source": [
    "#Create a Database in Mongo\n",
    "#use practicedb"
   ]
  },
  {
   "cell_type": "code",
   "execution_count": null,
   "id": "adc7f4e6",
   "metadata": {},
   "outputs": [],
   "source": [
    "#Check active database\n",
    "#db\n",
    "\n",
    "#Check how many databases are stored locally\n",
    "#show dbs\n",
    "\n",
    "#Check to see what data, or collections, are already in the database\n",
    "#show collections"
   ]
  },
  {
   "cell_type": "code",
   "execution_count": null,
   "id": "57cebce0",
   "metadata": {},
   "outputs": [],
   "source": [
    "#Insert Data\n",
    "#db.zoo.insertOne({name: 'Cleo', species: 'jaguar', age: 12, hobbies: ['sleeping', 'eating', 'climbing']})\n",
    "\n",
    "#db: active database, practicedb.\n",
    "#zoo: name of the new collection we're creating\n",
    "#.insertOne({ }): inserting data into the collection\n",
    "#{key:value} key:value is the format into which we're inserting our data (similar to a Python dictionary)"
   ]
  },
  {
   "cell_type": "code",
   "execution_count": 21,
   "id": "b41c097a",
   "metadata": {},
   "outputs": [],
   "source": [
    "#Show data in the database\n",
    "#db.zoo.find()"
   ]
  },
  {
   "cell_type": "code",
   "execution_count": null,
   "id": "8c3a66c4",
   "metadata": {},
   "outputs": [],
   "source": [
    "#Remove data from database\n",
    "#db.zoo.deleteOne({name: 'Cleo'})"
   ]
  },
  {
   "cell_type": "code",
   "execution_count": null,
   "id": "49cfe0de",
   "metadata": {},
   "outputs": [],
   "source": [
    "#Empty the collection at once\n",
    "#db.zoo.remove({})"
   ]
  },
  {
   "cell_type": "code",
   "execution_count": null,
   "id": "51bd7baf",
   "metadata": {},
   "outputs": [],
   "source": [
    "#Remove a collection\n",
    "#db.zoo.drop()"
   ]
  },
  {
   "cell_type": "code",
   "execution_count": null,
   "id": "76fc4e00",
   "metadata": {},
   "outputs": [],
   "source": [
    "#Remove the database\n",
    "#db.dropDatabase()"
   ]
  }
 ],
 "metadata": {
  "kernelspec": {
   "display_name": "Python 3 (ipykernel)",
   "language": "python",
   "name": "python3"
  },
  "language_info": {
   "codemirror_mode": {
    "name": "ipython",
    "version": 3
   },
   "file_extension": ".py",
   "mimetype": "text/x-python",
   "name": "python",
   "nbconvert_exporter": "python",
   "pygments_lexer": "ipython3",
   "version": "3.9.7"
  }
 },
 "nbformat": 4,
 "nbformat_minor": 5
}
